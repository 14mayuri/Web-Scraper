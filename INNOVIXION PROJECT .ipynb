{
 "cells": [
  {
   "cell_type": "markdown",
   "id": "818e13cc",
   "metadata": {},
   "source": [
    "# installing necessary libraries"
   ]
  },
  {
   "cell_type": "code",
   "execution_count": 4,
   "id": "14d60f5b",
   "metadata": {},
   "outputs": [
    {
     "name": "stdout",
     "output_type": "stream",
     "text": [
      "Requirement already satisfied: requests in e:\\mayuri_python_materials\\lib\\site-packages (2.31.0)\n",
      "Requirement already satisfied: beautifulsoup4 in e:\\mayuri_python_materials\\lib\\site-packages (4.12.2)\n",
      "Requirement already satisfied: charset-normalizer<4,>=2 in e:\\mayuri_python_materials\\lib\\site-packages (from requests) (2.0.4)\n",
      "Requirement already satisfied: idna<4,>=2.5 in e:\\mayuri_python_materials\\lib\\site-packages (from requests) (3.4)\n",
      "Requirement already satisfied: urllib3<3,>=1.21.1 in e:\\mayuri_python_materials\\lib\\site-packages (from requests) (1.26.16)\n",
      "Requirement already satisfied: certifi>=2017.4.17 in e:\\mayuri_python_materials\\lib\\site-packages (from requests) (2023.7.22)\n",
      "Requirement already satisfied: soupsieve>1.2 in e:\\mayuri_python_materials\\lib\\site-packages (from beautifulsoup4) (2.4)\n",
      "Note: you may need to restart the kernel to use updated packages.\n"
     ]
    }
   ],
   "source": [
    "pip install requests beautifulsoup4"
   ]
  },
  {
   "cell_type": "code",
   "execution_count": 5,
   "id": "6663efd3",
   "metadata": {},
   "outputs": [
    {
     "name": "stdout",
     "output_type": "stream",
     "text": [
      "\"“The world as we have created it is a process of our thinking. It cannot be changed without changing our thinking.”\" - Albert Einstein\n",
      "\n",
      "\"“It is our choices, Harry, that show what we truly are, far more than our abilities.”\" - J.K. Rowling\n",
      "\n",
      "\"“There are only two ways to live your life. One is as though nothing is a miracle. The other is as though everything is a miracle.”\" - Albert Einstein\n",
      "\n",
      "\"“The person, be it gentleman or lady, who has not pleasure in a good novel, must be intolerably stupid.”\" - Jane Austen\n",
      "\n",
      "\"“Imperfection is beauty, madness is genius and it's better to be absolutely ridiculous than absolutely boring.”\" - Marilyn Monroe\n",
      "\n",
      "\"“Try not to become a man of success. Rather become a man of value.”\" - Albert Einstein\n",
      "\n",
      "\"“It is better to be hated for what you are than to be loved for what you are not.”\" - André Gide\n",
      "\n",
      "\"“I have not failed. I've just found 10,000 ways that won't work.”\" - Thomas A. Edison\n",
      "\n",
      "\"“A woman is like a tea bag; you never know how strong it is until it's in hot water.”\" - Eleanor Roosevelt\n",
      "\n",
      "\"“A day without sunshine is like, you know, night.”\" - Steve Martin\n",
      "\n"
     ]
    }
   ],
   "source": [
    "import requests\n",
    "from bs4 import BeautifulSoup\n",
    "\n",
    "def scrape_quotes():\n",
    "    # URL of the website to scrape\n",
    "    url = 'http://quotes.toscrape.com'\n",
    "\n",
    "    # Send a GET request to the URL\n",
    "    response = requests.get(url)\n",
    "\n",
    "    # Check if the request was successful (status code 200)\n",
    "    if response.status_code == 200:\n",
    "        # Parse the HTML content of the page using BeautifulSoup\n",
    "        soup = BeautifulSoup(response.content, 'html.parser')\n",
    "\n",
    "        # Extract information (e.g., quotes and authors)\n",
    "        quotes = soup.find_all('span', class_='text')\n",
    "        authors = soup.find_all('small', class_='author')\n",
    "\n",
    "        # Display the extracted information\n",
    "        for quote, author in zip(quotes, authors):\n",
    "            print(f'\"{quote.text}\" - {author.text}\\n')\n",
    "\n",
    "    else:\n",
    "        print(f\"Error: Unable to fetch the webpage (Status code: {response.status_code})\")\n",
    "\n",
    "# Run the scraper\n",
    "scrape_quotes()\n"
   ]
  },
  {
   "cell_type": "code",
   "execution_count": null,
   "id": "98f13b02",
   "metadata": {},
   "outputs": [],
   "source": [
    "\n"
   ]
  },
  {
   "cell_type": "code",
   "execution_count": null,
   "id": "09ed0734",
   "metadata": {},
   "outputs": [],
   "source": []
  }
 ],
 "metadata": {
  "kernelspec": {
   "display_name": "Python 3 (ipykernel)",
   "language": "python",
   "name": "python3"
  },
  "language_info": {
   "codemirror_mode": {
    "name": "ipython",
    "version": 3
   },
   "file_extension": ".py",
   "mimetype": "text/x-python",
   "name": "python",
   "nbconvert_exporter": "python",
   "pygments_lexer": "ipython3",
   "version": "3.11.5"
  }
 },
 "nbformat": 4,
 "nbformat_minor": 5
}
